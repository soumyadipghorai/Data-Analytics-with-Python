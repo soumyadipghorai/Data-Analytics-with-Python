{
 "cells": [
  {
   "cell_type": "code",
   "execution_count": 2,
   "metadata": {},
   "outputs": [],
   "source": [
    "from scipy import stats\n",
    "from tabulate import tabulate"
   ]
  },
  {
   "cell_type": "code",
   "execution_count": 3,
   "metadata": {},
   "outputs": [
    {
     "name": "stdout",
     "output_type": "stream",
     "text": [
      "|      mu |   z value |   beta |   1 - beta |\n",
      "|---------+-----------+--------+------------|\n",
      "| 14      |     -5.6  | 0      |    1       |\n",
      "| 13.6    |     -4.81 | 0      |    1       |\n",
      "| 13.2    |     -4.02 | 0      |    0.99997 |\n",
      "| 12.8323 |     -3.29 | 0.0005 |    0.9995  |\n",
      "| 12.8    |     -3.23 | 0.0006 |    0.99937 |\n",
      "| 12.4    |     -2.44 | 0.0074 |    0.99256 |\n",
      "| 12.0001 |     -1.65 | 0.05   |    0.95002 |\n",
      "| 12      |     -1.64 | 0.05   |    0.95    |\n",
      "| 11.99   |     -1.63 | 0.0521 |    0.94793 |\n",
      "| 11.01   |      0.31 | 0.3776 |    0.62241 |\n",
      "| 10.5    |      1.32 | 0.0935 |    0.90655 |\n",
      "|  9.2    |      3.89 | 0.0001 |    0.99995 |\n"
     ]
    }
   ],
   "source": [
    "\"\"\"\n",
    "H0 : mu <= 12 vs H1 : mu > 12\n",
    "n = 40, xbar = 13.25 sigma = 3.2, alpha = 0.05\n",
    "\n",
    "if z_value > 1.645 reject H0\n",
    "==> xbar <= 12.8323 to accept H0\n",
    "\"\"\"\n",
    "\n",
    "def z_value(mu) :\n",
    "    return (12 + (stats.norm.ppf(0.05)*(3.2/pow(40, 0.5))) - mu)/(3.2/pow(40, 0.5))\n",
    "\n",
    "def type2_from_z_value(z_value) :\n",
    "    if z_value > 0 :\n",
    "        return 1 - stats.norm.cdf(z_value)\n",
    "    return stats.norm.cdf(z_value)\n",
    "\n",
    "mu_list = [14, 13.6, 13.2, 12.8323, 12.8, 12.4, 12.0001, 12, 11.99, 11.01, 10.5, 9.2]\n",
    "data = []\n",
    "for mu in mu_list :\n",
    "    beta = type2_from_z_value(z_value(mu))\n",
    "    data.append([mu, round(z_value(mu), 2), round(beta, 4), round(1 - beta, 5)])\n",
    "\n",
    "\n",
    "print(tabulate(data, headers=['mu', 'z value', 'beta', '1 - beta'], tablefmt='orgtbl'))"
   ]
  },
  {
   "cell_type": "code",
   "execution_count": 4,
   "metadata": {},
   "outputs": [
    {
     "data": {
      "image/png": "[encoded data removed]",
      "text/plain": [
       "<Figure size 432x288 with 1 Axes>"
      ]
     },
     "metadata": {
      "needs_background": "light"
     },
     "output_type": "display_data"
    }
   ],
   "source": [
    "import matplotlib.pyplot as plt\n",
    "\n",
    "x = [12+(i*0.02) for i in range(50)]\n",
    "y = [1 - type2_from_z_value(z_value(12+(i*0.02))) for i in range(50)]\n",
    "plt.plot(x, y);"
   ]
  },
  {
   "cell_type": "code",
   "execution_count": 5,
   "metadata": {},
   "outputs": [
    {
     "data": {
      "text/plain": [
       "0.005867741715332553"
      ]
     },
     "execution_count": 5,
     "metadata": {},
     "output_type": "execute_result"
    }
   ],
   "source": [
    "1 - stats.norm.cdf(2.52)"
   ]
  },
  {
   "cell_type": "code",
   "execution_count": null,
   "metadata": {},
   "outputs": [],
   "source": []
  }
 ],
 "metadata": {
  "kernelspec": {
   "display_name": "Python 3",
   "language": "python",
   "name": "python3"
  },
  "language_info": {
   "codemirror_mode": {
    "name": "ipython",
    "version": 3
   },
   "file_extension": ".py",
   "mimetype": "text/x-python",
   "name": "python",
   "nbconvert_exporter": "python",
   "pygments_lexer": "ipython3",
   "version": "3.10.7"
  },
  "orig_nbformat": 4
 },
 "nbformat": 4,
 "nbformat_minor": 2
}
