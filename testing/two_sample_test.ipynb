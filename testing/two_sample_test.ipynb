{
 "cells": [
  {
   "cell_type": "code",
   "execution_count": 3,
   "metadata": {},
   "outputs": [],
   "source": [
    "from scipy import stats"
   ]
  },
  {
   "cell_type": "code",
   "execution_count": 1,
   "metadata": {},
   "outputs": [],
   "source": [
    "def z_and_p(x1bar, x2bar, sigma1, sigma2, n1, n2, alpha) :\n",
    "    z = (x1bar - x2bar)/pow(pow(sigma1, 2)/n1 + pow(sigma2, 2)/n2, 0.5)\n",
    "    if z < 0 :\n",
    "        pvalue = stats.norm.cdf(z)\n",
    "    else :\n",
    "        pvalue = 1 - stats.norm.cdf(z)\n",
    "\n",
    "    print(\"using P-value --> \", end = \"\")\n",
    "    if pvalue < alpha :\n",
    "        print(\"reject null\")\n",
    "    else :\n",
    "        print(\"fail to reject null\")\n",
    "\n",
    "    print(\"using zvalue --> \", end = \"\")\n",
    "    z_alpha = stats.norm.ppf(alpha)\n",
    "    if x1bar >= x2bar :\n",
    "        if z > z_alpha :\n",
    "            print(\"reject null\")\n",
    "        else :\n",
    "            print(\"fail to reject null\")\n",
    "    elif x1bar < x2bar :\n",
    "        if z < z_alpha :\n",
    "            print(\"reject null\")\n",
    "        else :\n",
    "            print(\"fail to reject null\")\n",
    "\n",
    "    return z, pvalue\n"
   ]
  },
  {
   "cell_type": "code",
   "execution_count": 4,
   "metadata": {},
   "outputs": [
    {
     "name": "stdout",
     "output_type": "stream",
     "text": [
      "using P-value --> reject null\n",
      "using zvalue --> reject null\n"
     ]
    },
    {
     "data": {
      "text/plain": [
       "(2.5155764746872635, 0.00594189462107364)"
      ]
     },
     "execution_count": 4,
     "metadata": {},
     "output_type": "execute_result"
    }
   ],
   "source": [
    "z_and_p(121, 112, 8, 8, 10, 10, 0.05)"
   ]
  },
  {
   "cell_type": "markdown",
   "metadata": {},
   "source": [
    "#### sigma1 sigma2 unknown, assumed equla"
   ]
  },
  {
   "cell_type": "code",
   "execution_count": 5,
   "metadata": {},
   "outputs": [],
   "source": [
    "sample1 = [89.19, 90.95, 90.46, 93.21, 97.19, 97.04, 91.07, 92.75]\n",
    "sample2 = [91.5, 94.18, 92.18, 95.39, 91.79, 89.07, 94.72, 89.21]"
   ]
  },
  {
   "cell_type": "code",
   "execution_count": 6,
   "metadata": {},
   "outputs": [
    {
     "data": {
      "text/plain": [
       "Ttest_indResult(statistic=0.3535908643461798, pvalue=0.7289136186068217)"
      ]
     },
     "execution_count": 6,
     "metadata": {},
     "output_type": "execute_result"
    }
   ],
   "source": [
    "stats.ttest_ind(sample1, sample2, equal_var= True)"
   ]
  },
  {
   "cell_type": "code",
   "execution_count": 7,
   "metadata": {},
   "outputs": [
    {
     "name": "stdout",
     "output_type": "stream",
     "text": [
      "0.3535908643461798 0.7289136186068217\n"
     ]
    }
   ],
   "source": [
    "testStats, pValue = stats.ttest_ind(sample1, sample2, equal_var= True)\n",
    "print(testStats, pValue)"
   ]
  },
  {
   "cell_type": "code",
   "execution_count": 8,
   "metadata": {},
   "outputs": [
    {
     "name": "stdout",
     "output_type": "stream",
     "text": [
      "0.6355431906965892\n"
     ]
    }
   ],
   "source": [
    "print(stats.t.cdf(testStats, df = len(sample1) + len(sample2) - 2))"
   ]
  },
  {
   "cell_type": "code",
   "execution_count": 10,
   "metadata": {},
   "outputs": [
    {
     "data": {
      "text/plain": [
       "-2.1447866879169277"
      ]
     },
     "execution_count": 10,
     "metadata": {},
     "output_type": "execute_result"
    }
   ],
   "source": [
    "stats.t.ppf(0.025, df = len(sample1) + len(sample2) - 2)"
   ]
  },
  {
   "cell_type": "code",
   "execution_count": null,
   "metadata": {},
   "outputs": [],
   "source": []
  }
 ],
 "metadata": {
  "kernelspec": {
   "display_name": "Python 3",
   "language": "python",
   "name": "python3"
  },
  "language_info": {
   "codemirror_mode": {
    "name": "ipython",
    "version": 3
   },
   "file_extension": ".py",
   "mimetype": "text/x-python",
   "name": "python",
   "nbconvert_exporter": "python",
   "pygments_lexer": "ipython3",
   "version": "3.10.7"
  },
  "orig_nbformat": 4
 },
 "nbformat": 4,
 "nbformat_minor": 2
}
