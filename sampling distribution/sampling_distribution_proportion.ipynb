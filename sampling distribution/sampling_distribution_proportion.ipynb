{
 "cells": [
  {
   "cell_type": "code",
   "execution_count": 1,
   "metadata": {},
   "outputs": [],
   "source": [
    "import math\n",
    "import numpy as np\n",
    "import seaborn as sns\n",
    "import matplotlib.pyplot as plt\n",
    "from numpy.random import uniform\n",
    "from numpy.random import exponential\n",
    "from numpy.random import geometric\n",
    "from numpy.random import normal\n",
    "\n",
    "import random "
   ]
  },
  {
   "cell_type": "code",
   "execution_count": 27,
   "metadata": {},
   "outputs": [
    {
     "data": {
      "text/plain": [
       "[2, 0, 0, 0, 2, 2, 0, 0, 2, 0, 2, 0, 2, 2, 2, 1, 2, 1, 0, 0, 0, 1, 0, 2, 0]"
      ]
     },
     "execution_count": 27,
     "metadata": {},
     "output_type": "execute_result"
    }
   ],
   "source": [
    "population = [1 for i in range(3798)] + [0 for i in range(8537)] + [2 for i in range(8317)]\n",
    "# shuffle \n",
    "np.random.shuffle(population)\n",
    "population[:25]"
   ]
  },
  {
   "cell_type": "code",
   "execution_count": 28,
   "metadata": {},
   "outputs": [
    {
     "data": {
      "image/png": "[encoded data removed]",
      "text/plain": [
       "<Figure size 432x288 with 1 Axes>"
      ]
     },
     "metadata": {
      "needs_background": "light"
     },
     "output_type": "display_data"
    }
   ],
   "source": [
    "sns.histplot(population);"
   ]
  },
  {
   "cell_type": "code",
   "execution_count": 29,
   "metadata": {},
   "outputs": [
    {
     "name": "stdout",
     "output_type": "stream",
     "text": [
      "0.18390470656595004\n"
     ]
    }
   ],
   "source": [
    "population_proportion = population.count(1)/len(population)\n",
    "print(population_proportion)"
   ]
  },
  {
   "cell_type": "code",
   "execution_count": 41,
   "metadata": {},
   "outputs": [
    {
     "data": {
      "image/png": "[encoded data removed]",
      "text/plain": [
       "<Figure size 432x288 with 1 Axes>"
      ]
     },
     "metadata": {
      "needs_background": "light"
     },
     "output_type": "display_data"
    }
   ],
   "source": [
    "def plot_sampling_distribution(population, sample_class = 1, n_sample = 100, sample_size = 30, return_distribution = False) : \n",
    "    sample_proportion = []\n",
    "    for i in range(n_sample) : \n",
    "        sample = []\n",
    "        for j in range(sample_size) : \n",
    "            random_number = random.randint(0 , len(population)-1)\n",
    "            sample.append(population[random_number])\n",
    "\n",
    "        sample_proportion.append(sample.count(1)/len(sample))\n",
    "\n",
    "    if return_distribution : \n",
    "        return sample_proportion\n",
    "    return sns.histplot(sample_proportion, bins= 50);\n",
    "\n",
    "plot_sampling_distribution(population, n_sample = 100000);"
   ]
  },
  {
   "cell_type": "markdown",
   "metadata": {},
   "source": [
    "mean of the sampling distribution is population proportion"
   ]
  },
  {
   "cell_type": "code",
   "execution_count": 42,
   "metadata": {},
   "outputs": [
    {
     "name": "stdout",
     "output_type": "stream",
     "text": [
      "population mean --> 0.989347278713926\n",
      "population mean --> 0.18397166666666667, population proportion --> 0.18390470656595004\n"
     ]
    }
   ],
   "source": [
    "print(f'population mean --> {np.mean(population)}')\n",
    "\n",
    "sampling_dist = plot_s ampling_distribution(population, n_sample = 100000, return_distribution= True);\n",
    "print(f'population mean --> {np.mean(sampling_dist)}, population proportion --> {population_proportion}')"
   ]
  },
  {
   "cell_type": "markdown",
   "metadata": {},
   "source": [
    "sample std =  pow(p(1-p)/n, 0.5)"
   ]
  },
  {
   "cell_type": "code",
   "execution_count": 45,
   "metadata": {},
   "outputs": [
    {
     "name": "stdout",
     "output_type": "stream",
     "text": [
      "population mean --> 0.07075272493770901, population proportion --> 0.07073041907337131\n"
     ]
    }
   ],
   "source": [
    "print(f'population mean --> {np.std(sampling_dist)}, population proportion --> {pow(population_proportion*(1-population_proportion)/30, 0.5)}')"
   ]
  },
  {
   "cell_type": "code",
   "execution_count": null,
   "metadata": {},
   "outputs": [],
   "source": []
  }
 ],
 "metadata": {
  "kernelspec": {
   "display_name": "Python 3",
   "language": "python",
   "name": "python3"
  },
  "language_info": {
   "codemirror_mode": {
    "name": "ipython",
    "version": 3
   },
   "file_extension": ".py",
   "mimetype": "text/x-python",
   "name": "python",
   "nbconvert_exporter": "python",
   "pygments_lexer": "ipython3",
   "version": "3.10.7"
  }
 },
 "nbformat": 4,
 "nbformat_minor": 2
}
