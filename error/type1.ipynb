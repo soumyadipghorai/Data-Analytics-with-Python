{
 "cells": [
  {
   "cell_type": "code",
   "execution_count": 12,
   "metadata": {},
   "outputs": [],
   "source": [
    "from scipy import stats\n",
    "from tabulate import tabulate"
   ]
  },
  {
   "cell_type": "markdown",
   "metadata": {},
   "source": [
    "<img src = \"https://www.abtasty.com/wp-content/uploads/type-1-2-errors.png\">"
   ]
  },
  {
   "cell_type": "code",
   "execution_count": 7,
   "metadata": {},
   "outputs": [],
   "source": [
    "def z_value(x, mu, stdError) :\n",
    "    z = (x-mu)/stdError\n",
    "    if z < 0 :\n",
    "        alpha = stats.norm.cdf(z)\n",
    "    else :\n",
    "        alpha = 1 - stats.norm.cdf(z)\n",
    "\n",
    "    return alpha"
   ]
  },
  {
   "cell_type": "code",
   "execution_count": 8,
   "metadata": {},
   "outputs": [],
   "source": [
    "lower, upper = 48.5, 51.5\n",
    "mu = 50\n",
    "sd = 2.5\n",
    "n = 10\n",
    "stdError = sd/pow(n, 0.5)"
   ]
  },
  {
   "cell_type": "code",
   "execution_count": 9,
   "metadata": {},
   "outputs": [
    {
     "name": "stdout",
     "output_type": "stream",
     "text": [
      "0.028889785561798602 0.028889785561798553\n"
     ]
    }
   ],
   "source": [
    "lowerProb = z_value(lower, mu, stdError)\n",
    "uppererProb = z_value(upper, mu, stdError)\n",
    "\n",
    "print(lowerProb, uppererProb)"
   ]
  },
  {
   "cell_type": "code",
   "execution_count": 10,
   "metadata": {},
   "outputs": [
    {
     "name": "stdout",
     "output_type": "stream",
     "text": [
      "0.057779571123597155\n",
      "the prob of getting type I error is --> 5.78 %\n"
     ]
    }
   ],
   "source": [
    "type1Error = z_value(lower, mu, stdError) + z_value(upper, mu, stdError)\n",
    "print(type1Error)\n",
    "print(f'the prob of getting type I error is --> {round(type1Error*100, 2)} %' )"
   ]
  },
  {
   "cell_type": "markdown",
   "metadata": {},
   "source": [
    "#### reduce type I error by increasing n"
   ]
  },
  {
   "cell_type": "code",
   "execution_count": 13,
   "metadata": {},
   "outputs": [
    {
     "name": "stdout",
     "output_type": "stream",
     "text": [
      "|   lower bound |   upper bound |   type I error |\n",
      "|---------------+---------------+----------------|\n",
      "|         48.5  |         51.5  |         0.0578 |\n",
      "|         48.49 |         51.51 |         0.0561 |\n",
      "|         48.48 |         51.52 |         0.0545 |\n",
      "|         48.47 |         51.53 |         0.053  |\n",
      "|         48.46 |         51.54 |         0.0514 |\n",
      "|         48.45 |         51.55 |         0.0499 |\n",
      "|         48.44 |         51.56 |         0.0485 |\n",
      "|         48.43 |         51.57 |         0.047  |\n",
      "|         48.42 |         51.58 |         0.0457 |\n",
      "|         48.41 |         51.59 |         0.0443 |\n",
      "|         48.4  |         51.6  |         0.043  |\n",
      "|         48.39 |         51.61 |         0.0417 |\n",
      "|         48.38 |         51.62 |         0.0404 |\n",
      "|         48.37 |         51.63 |         0.0392 |\n",
      "|         48.36 |         51.64 |         0.038  |\n",
      "|         48.35 |         51.65 |         0.0369 |\n",
      "|         48.34 |         51.66 |         0.0358 |\n",
      "|         48.33 |         51.67 |         0.0347 |\n",
      "|         48.32 |         51.68 |         0.0336 |\n",
      "|         48.31 |         51.69 |         0.0325 |\n"
     ]
    }
   ],
   "source": [
    "data = []\n",
    "for i in range(20) :\n",
    "    lowerNew, upperNew = 48.5 - (i*0.01), 51.5 + (i*0.01)\n",
    "    type1Error = z_value(lowerNew, mu, stdError) + z_value(upperNew, mu, stdError)\n",
    "    data.append([lowerNew, upperNew, round(type1Error, 4)])\n",
    "\n",
    "print(tabulate(data, headers=['lower bound', 'upper bound', 'type I error'], tablefmt='orgtbl'))"
   ]
  },
  {
   "cell_type": "code",
   "execution_count": null,
   "metadata": {},
   "outputs": [],
   "source": []
  }
 ],
 "metadata": {
  "kernelspec": {
   "display_name": "Python 3",
   "language": "python",
   "name": "python3"
  },
  "language_info": {
   "codemirror_mode": {
    "name": "ipython",
    "version": 3
   },
   "file_extension": ".py",
   "mimetype": "text/x-python",
   "name": "python",
   "nbconvert_exporter": "python",
   "pygments_lexer": "ipython3",
   "version": "3.10.7"
  },
  "orig_nbformat": 4
 },
 "nbformat": 4,
 "nbformat_minor": 2
}
