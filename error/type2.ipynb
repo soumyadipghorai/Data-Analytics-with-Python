{
 "cells": [
  {
   "cell_type": "code",
   "execution_count": 1,
   "metadata": {},
   "outputs": [],
   "source": [
    "from scipy import stats\n",
    "from tabulate import tabulate"
   ]
  },
  {
   "cell_type": "markdown",
   "metadata": {},
   "source": [
    "### Type II "
   ]
  },
  {
   "cell_type": "code",
   "execution_count": 2,
   "metadata": {},
   "outputs": [
    {
     "name": "stdout",
     "output_type": "stream",
     "text": [
      "0.26354462843276905\n"
     ]
    }
   ],
   "source": [
    "beta = stats.norm.cdf((51.5 - 52)/(2.5/pow(10, 0.5)))\n",
    "print(beta)"
   ]
  },
  {
   "cell_type": "code",
   "execution_count": 3,
   "metadata": {},
   "outputs": [
    {
     "name": "stdout",
     "output_type": "stream",
     "text": [
      "0.8970483946339658\n"
     ]
    }
   ],
   "source": [
    "beta = stats.norm.cdf((51.5 - 50.5)/(2.5/pow(10, 0.5)))\n",
    "print(beta)"
   ]
  },
  {
   "cell_type": "code",
   "execution_count": 4,
   "metadata": {},
   "outputs": [],
   "source": [
    "\"\"\"\n",
    "H0 : mu = 8.3 vs H1 : mu < 8.3\n",
    "populaiton mean = 7.4\n",
    "alpha = 0.05\n",
    "sigma = 3.1\n",
    "n = 60\n",
    "\"\"\"\n",
    "def type_2(mu1, mu2, sigma, n, alpha) :\n",
    "    z = stats.norm.ppf(alpha)\n",
    "    xbar = (mu1) + ((z*sigma)/pow(n, 0.5))\n",
    "    z2 = (xbar - mu2) / (sigma/pow(n, 0.5))\n",
    "\n",
    "    if (mu1 > mu2) :\n",
    "        beta = 1 - stats.norm.cdf(z2)\n",
    "\n",
    "    else :\n",
    "        beta = stats.norm.cdf(z2)\n",
    "\n",
    "    return beta"
   ]
  },
  {
   "cell_type": "code",
   "execution_count": 5,
   "metadata": {},
   "outputs": [
    {
     "data": {
      "text/plain": [
       "0.27292999450730004"
      ]
     },
     "execution_count": 5,
     "metadata": {},
     "output_type": "execute_result"
    }
   ],
   "source": [
    "type_2(8.3, 7.4, 3.1, 60, 0.05)"
   ]
  },
  {
   "cell_type": "code",
   "execution_count": 6,
   "metadata": {},
   "outputs": [
    {
     "data": {
      "text/plain": [
       "0.8079200023112734"
      ]
     },
     "execution_count": 6,
     "metadata": {},
     "output_type": "execute_result"
    }
   ],
   "source": [
    "\"\"\"\n",
    "H0 : mu = 12 vs H1 : mu < 12\n",
    "populaiton mean = 11.99\n",
    "alpha = 0.05\n",
    "sigma = 0.1\n",
    "n = 60\n",
    "\"\"\"\n",
    "\n",
    "type_2(12, 11.99, 0.1, 60, 0.05)"
   ]
  },
  {
   "cell_type": "code",
   "execution_count": 7,
   "metadata": {},
   "outputs": [
    {
     "data": {
      "text/plain": [
       "0.07303790512847008"
      ]
     },
     "execution_count": 7,
     "metadata": {},
     "output_type": "execute_result"
    }
   ],
   "source": [
    "type_2(12, 11.96, 0.1, 60, 0.05)"
   ]
  },
  {
   "cell_type": "code",
   "execution_count": null,
   "metadata": {},
   "outputs": [],
   "source": []
  }
 ],
 "metadata": {
  "kernelspec": {
   "display_name": "Python 3",
   "language": "python",
   "name": "python3"
  },
  "language_info": {
   "codemirror_mode": {
    "name": "ipython",
    "version": 3
   },
   "file_extension": ".py",
   "mimetype": "text/x-python",
   "name": "python",
   "nbconvert_exporter": "python",
   "pygments_lexer": "ipython3",
   "version": "3.10.7"
  },
  "orig_nbformat": 4
 },
 "nbformat": 4,
 "nbformat_minor": 2
}
